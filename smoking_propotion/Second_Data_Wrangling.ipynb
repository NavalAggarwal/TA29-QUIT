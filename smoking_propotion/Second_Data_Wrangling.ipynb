{
 "cells": [
  {
   "cell_type": "code",
   "execution_count": 1,
   "id": "aceec027",
   "metadata": {},
   "outputs": [],
   "source": [
    "import pandas as pd\n",
    "import re\n",
    "import numpy as np\n",
    "import matplotlib.pyplot as plt\n",
    "import urllib"
   ]
  },
  {
   "cell_type": "code",
   "execution_count": 164,
   "id": "129289b8",
   "metadata": {},
   "outputs": [],
   "source": [
    "df1 = pd.read_csv(\"./Open Data/National_Drugs_Strategy_Household_Survey__NDSHS__-_Tobacco.csv\", encoding=\"utf-8\")"
   ]
  },
  {
   "cell_type": "code",
   "execution_count": 46,
   "id": "5f87993e",
   "metadata": {
    "collapsed": true
   },
   "outputs": [
    {
     "data": {
      "text/plain": [
       "Index(['Year', 'Region', 'Category', 'Indicator', 'Characteristic', 'Age',\n",
       "       'Sex', 'Result', 'Unit', 'Significants (g)', 'Comments'],\n",
       "      dtype='object')"
      ]
     },
     "execution_count": 46,
     "metadata": {},
     "output_type": "execute_result"
    }
   ],
   "source": [
    "df1.columns"
   ]
  },
  {
   "cell_type": "code",
   "execution_count": 65,
   "id": "972b9c92",
   "metadata": {
    "collapsed": true
   },
   "outputs": [
    {
     "data": {
      "text/plain": [
       "Year                int64\n",
       "Region             object\n",
       "Characteristic     object\n",
       "Age                object\n",
       "Sex                object\n",
       "Result            float64\n",
       "dtype: object"
      ]
     },
     "execution_count": 65,
     "metadata": {},
     "output_type": "execute_result"
    }
   ],
   "source": [
    "df1.dtypes"
   ]
  },
  {
   "cell_type": "code",
   "execution_count": 91,
   "id": "ffaaf4e0",
   "metadata": {
    "collapsed": true
   },
   "outputs": [
    {
     "data": {
      "text/plain": [
       "count    909.000000\n",
       "mean      16.742904\n",
       "std       15.343531\n",
       "min        0.000000\n",
       "25%        6.400000\n",
       "50%       14.500000\n",
       "75%       21.000000\n",
       "max       68.500000\n",
       "Name: Result, dtype: float64"
      ]
     },
     "execution_count": 91,
     "metadata": {},
     "output_type": "execute_result"
    }
   ],
   "source": [
    "df1.describe()"
   ]
  },
  {
   "cell_type": "code",
   "execution_count": 134,
   "id": "9966b3a2",
   "metadata": {},
   "outputs": [
    {
     "data": {
      "text/plain": [
       "array(['Daily', 'Ex-smoker', 'Less than weekly', 'Weekly'], dtype=object)"
      ]
     },
     "execution_count": 134,
     "metadata": {},
     "output_type": "execute_result"
    }
   ],
   "source": [
    "np.unique(df1['Characteristic'])"
   ]
  },
  {
   "cell_type": "code",
   "execution_count": 165,
   "id": "419631f7",
   "metadata": {},
   "outputs": [],
   "source": [
    "df1.dropna(subset = [\"Result\"], inplace=True)\n",
    "df1 = df1.loc[df1['Characteristic'] != 'Never smoked']\n",
    "df1 = df1.loc[df1['Characteristic'] != 'Ex-smoker'] "
   ]
  },
  {
   "cell_type": "code",
   "execution_count": 166,
   "id": "bd83220e",
   "metadata": {},
   "outputs": [],
   "source": [
    "df1 = df1[['Year', 'Region', 'Characteristic', 'Age', 'Sex', 'Result']]"
   ]
  },
  {
   "cell_type": "code",
   "execution_count": 141,
   "id": "17572257",
   "metadata": {},
   "outputs": [],
   "source": [
    "df1 = df1.groupby(['Year', 'Region', 'Characteristic', 'Age', 'Sex'], as_index = False)['Result'].agg(sum)"
   ]
  },
  {
   "cell_type": "code",
   "execution_count": 107,
   "id": "0c3d0625",
   "metadata": {},
   "outputs": [
    {
     "data": {
      "text/html": [
       "<div>\n",
       "<style scoped>\n",
       "    .dataframe tbody tr th:only-of-type {\n",
       "        vertical-align: middle;\n",
       "    }\n",
       "\n",
       "    .dataframe tbody tr th {\n",
       "        vertical-align: top;\n",
       "    }\n",
       "\n",
       "    .dataframe thead th {\n",
       "        text-align: right;\n",
       "    }\n",
       "</style>\n",
       "<table border=\"1\" class=\"dataframe\">\n",
       "  <thead>\n",
       "    <tr style=\"text-align: right;\">\n",
       "      <th></th>\n",
       "      <th>Year</th>\n",
       "      <th>Region</th>\n",
       "      <th>Characteristic</th>\n",
       "      <th>Age</th>\n",
       "      <th>Sex</th>\n",
       "      <th>Result</th>\n",
       "    </tr>\n",
       "  </thead>\n",
       "  <tbody>\n",
       "    <tr>\n",
       "      <th>0</th>\n",
       "      <td>1998</td>\n",
       "      <td>NSW</td>\n",
       "      <td>Daily</td>\n",
       "      <td>18+</td>\n",
       "      <td>Persons</td>\n",
       "      <td>21.8</td>\n",
       "    </tr>\n",
       "    <tr>\n",
       "      <th>1</th>\n",
       "      <td>1998</td>\n",
       "      <td>VIC</td>\n",
       "      <td>Daily</td>\n",
       "      <td>18+</td>\n",
       "      <td>Persons</td>\n",
       "      <td>22.9</td>\n",
       "    </tr>\n",
       "    <tr>\n",
       "      <th>2</th>\n",
       "      <td>1998</td>\n",
       "      <td>Qld</td>\n",
       "      <td>Daily</td>\n",
       "      <td>18+</td>\n",
       "      <td>Persons</td>\n",
       "      <td>24.3</td>\n",
       "    </tr>\n",
       "    <tr>\n",
       "      <th>3</th>\n",
       "      <td>1998</td>\n",
       "      <td>WA</td>\n",
       "      <td>Daily</td>\n",
       "      <td>18+</td>\n",
       "      <td>Persons</td>\n",
       "      <td>23.6</td>\n",
       "    </tr>\n",
       "    <tr>\n",
       "      <th>4</th>\n",
       "      <td>1998</td>\n",
       "      <td>SA</td>\n",
       "      <td>Daily</td>\n",
       "      <td>18+</td>\n",
       "      <td>Persons</td>\n",
       "      <td>19.4</td>\n",
       "    </tr>\n",
       "  </tbody>\n",
       "</table>\n",
       "</div>"
      ],
      "text/plain": [
       "   Year Region Characteristic  Age      Sex  Result\n",
       "0  1998    NSW          Daily  18+  Persons    21.8\n",
       "1  1998    VIC          Daily  18+  Persons    22.9\n",
       "2  1998    Qld          Daily  18+  Persons    24.3\n",
       "3  1998     WA          Daily  18+  Persons    23.6\n",
       "4  1998     SA          Daily  18+  Persons    19.4"
      ]
     },
     "execution_count": 107,
     "metadata": {},
     "output_type": "execute_result"
    }
   ],
   "source": [
    "df1.head()"
   ]
  },
  {
   "cell_type": "code",
   "execution_count": 167,
   "id": "ebb24e49",
   "metadata": {},
   "outputs": [],
   "source": [
    "df1.to_csv('smoking_propotion.csv', index = False)"
   ]
  },
  {
   "cell_type": "code",
   "execution_count": 161,
   "id": "09c3a3a3",
   "metadata": {},
   "outputs": [],
   "source": [
    "df1_test = df1.loc[df1['Region'] == \"ACT\"]\n",
    "df1_test = df1_test.loc[df1_test['Characteristic'] == \"Daily\"]\n",
    "df1_test = df1_test.loc[df1_test['Age'] == \"14+\"]\n",
    "df1_test = df1_test.loc[df1_test['Sex'] == \"Persons\"]"
   ]
  },
  {
   "cell_type": "code",
   "execution_count": 163,
   "id": "64727592",
   "metadata": {},
   "outputs": [
    {
     "data": {
      "image/png": "[encoded data removed]",
      "text/plain": [
       "<Figure size 640x480 with 1 Axes>"
      ]
     },
     "metadata": {},
     "output_type": "display_data"
    }
   ],
   "source": [
    "x = df1_vic[\"Year\"]\n",
    "y = df1_vic[\"Result\"]\n",
    "plt.plot(x, y)\n",
    "axes = plt.gca()\n",
    "axes.set_xlim([1998, 2016])\n",
    "axes.set_ylim([0, 70])\n",
    "plt.show()"
   ]
  }
 ],
 "metadata": {
  "kernelspec": {
   "display_name": "Python 3",
   "language": "python",
   "name": "python3"
  },
  "language_info": {
   "codemirror_mode": {
    "name": "ipython",
    "version": 3
   },
   "file_extension": ".py",
   "mimetype": "text/x-python",
   "name": "python",
   "nbconvert_exporter": "python",
   "pygments_lexer": "ipython3",
   "version": "3.8.11"
  }
 },
 "nbformat": 4,
 "nbformat_minor": 5
}
